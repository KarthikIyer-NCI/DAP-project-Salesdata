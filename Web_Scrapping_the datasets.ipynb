{
 "cells": [
  {
   "cell_type": "markdown",
   "id": "e1b3c913",
   "metadata": {},
   "source": [
    "## Parsing Data :"
   ]
  },
  {
   "cell_type": "code",
   "execution_count": 2,
   "id": "63aa022c",
   "metadata": {},
   "outputs": [],
   "source": [
    "#storing 4 xml datasets from the URL ......\n",
    "\n",
    "\n",
    "#Parts Data \n",
    "import requests\n",
    "resp = requests.get('http://aiweb.cs.washington.edu/research/projects/xmltk/xmldata/data/tpc-h/part.xml')\n",
    "with open('Parts.xml', 'wb') as foutput:\n",
    "   foutput.write(resp.content)\n",
    "\n",
    "#Part_supplier_relationship Data \n",
    "import requests\n",
    "resp = requests.get('http://aiweb.cs.washington.edu/research/projects/xmltk/xmldata/data/tpc-h/partsupp.xml')\n",
    "with open('Part_supplier_relationship.xml', 'wb') as foutput:\n",
    "   foutput.write(resp.content)\n",
    "\n",
    "#Orders Data \n",
    "import requests\n",
    "resp = requests.get('http://aiweb.cs.washington.edu/research/projects/xmltk/xmldata/data/tpc-h/orders.xml')\n",
    "with open('Orders.xml', 'wb') as foutput:\n",
    "   foutput.write(resp.content)\n",
    "\n",
    "#Customer Data \n",
    "import requests\n",
    "resp = requests.get('http://aiweb.cs.washington.edu/research/projects/xmltk/xmldata/data/tpc-h/customer.xml')\n",
    "with open('Customer.xml', 'wb') as foutput:\n",
    "   foutput.write(resp.content)"
   ]
  }
 ],
 "metadata": {
  "kernelspec": {
   "display_name": "Python 3 (ipykernel)",
   "language": "python",
   "name": "python3"
  },
  "language_info": {
   "codemirror_mode": {
    "name": "ipython",
    "version": 3
   },
   "file_extension": ".py",
   "mimetype": "text/x-python",
   "name": "python",
   "nbconvert_exporter": "python",
   "pygments_lexer": "ipython3",
   "version": "3.9.13"
  }
 },
 "nbformat": 4,
 "nbformat_minor": 5
}
